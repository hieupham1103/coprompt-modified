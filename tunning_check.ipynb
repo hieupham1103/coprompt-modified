{
 "cells": [
  {
   "cell_type": "code",
   "execution_count": 1,
   "id": "3cc395bb",
   "metadata": {},
   "outputs": [],
   "source": [
    "import pandas as pd"
   ]
  },
  {
   "cell_type": "code",
   "execution_count": 2,
   "id": "8b456587",
   "metadata": {},
   "outputs": [],
   "source": [
    "def read_tunning(path, base, new):\n",
    "    df = pd.read_csv(path)\n",
    "    return df[(df['train_base_acc'] >= base) & (df['test_new_acc'] >= new)]"
   ]
  },
  {
   "cell_type": "code",
   "execution_count": 3,
   "id": "7f1c74f7",
   "metadata": {},
   "outputs": [],
   "source": [
    "eurosat = read_tunning('tunning_eurosat.csv', 94, 78)"
   ]
  },
  {
   "cell_type": "code",
   "execution_count": 4,
   "id": "41df3114",
   "metadata": {},
   "outputs": [
    {
     "data": {
      "text/html": [
       "<div>\n",
       "<style scoped>\n",
       "    .dataframe tbody tr th:only-of-type {\n",
       "        vertical-align: middle;\n",
       "    }\n",
       "\n",
       "    .dataframe tbody tr th {\n",
       "        vertical-align: top;\n",
       "    }\n",
       "\n",
       "    .dataframe thead th {\n",
       "        text-align: right;\n",
       "    }\n",
       "</style>\n",
       "<table border=\"1\" class=\"dataframe\">\n",
       "  <thead>\n",
       "    <tr style=\"text-align: right;\">\n",
       "      <th></th>\n",
       "      <th>layer</th>\n",
       "      <th>dim</th>\n",
       "      <th>numvector</th>\n",
       "      <th>loss</th>\n",
       "      <th>epoch</th>\n",
       "      <th>train_base_acc</th>\n",
       "      <th>test_new_acc</th>\n",
       "    </tr>\n",
       "  </thead>\n",
       "  <tbody>\n",
       "    <tr>\n",
       "      <th>51</th>\n",
       "      <td>4</td>\n",
       "      <td>8</td>\n",
       "      <td>16</td>\n",
       "      <td>0.4</td>\n",
       "      <td>8</td>\n",
       "      <td>94.13</td>\n",
       "      <td>79.13</td>\n",
       "    </tr>\n",
       "    <tr>\n",
       "      <th>94</th>\n",
       "      <td>4</td>\n",
       "      <td>8</td>\n",
       "      <td>32</td>\n",
       "      <td>0.4</td>\n",
       "      <td>9</td>\n",
       "      <td>94.33</td>\n",
       "      <td>81.43</td>\n",
       "    </tr>\n",
       "    <tr>\n",
       "      <th>106</th>\n",
       "      <td>4</td>\n",
       "      <td>8</td>\n",
       "      <td>32</td>\n",
       "      <td>1.0</td>\n",
       "      <td>9</td>\n",
       "      <td>94.13</td>\n",
       "      <td>79.37</td>\n",
       "    </tr>\n",
       "    <tr>\n",
       "      <th>141</th>\n",
       "      <td>4</td>\n",
       "      <td>8</td>\n",
       "      <td>64</td>\n",
       "      <td>0.8</td>\n",
       "      <td>8</td>\n",
       "      <td>94.20</td>\n",
       "      <td>78.17</td>\n",
       "    </tr>\n",
       "    <tr>\n",
       "      <th>253</th>\n",
       "      <td>4</td>\n",
       "      <td>16</td>\n",
       "      <td>16</td>\n",
       "      <td>0.4</td>\n",
       "      <td>7</td>\n",
       "      <td>94.20</td>\n",
       "      <td>78.40</td>\n",
       "    </tr>\n",
       "  </tbody>\n",
       "</table>\n",
       "</div>"
      ],
      "text/plain": [
       "     layer  dim  numvector  loss  epoch  train_base_acc  test_new_acc\n",
       "51       4    8         16   0.4      8           94.13         79.13\n",
       "94       4    8         32   0.4      9           94.33         81.43\n",
       "106      4    8         32   1.0      9           94.13         79.37\n",
       "141      4    8         64   0.8      8           94.20         78.17\n",
       "253      4   16         16   0.4      7           94.20         78.40"
      ]
     },
     "execution_count": 4,
     "metadata": {},
     "output_type": "execute_result"
    }
   ],
   "source": [
    "eurosat"
   ]
  }
 ],
 "metadata": {
  "kernelspec": {
   "display_name": "cvpr2025-3.8",
   "language": "python",
   "name": "python3"
  },
  "language_info": {
   "codemirror_mode": {
    "name": "ipython",
    "version": 3
   },
   "file_extension": ".py",
   "mimetype": "text/x-python",
   "name": "python",
   "nbconvert_exporter": "python",
   "pygments_lexer": "ipython3",
   "version": "3.8.20"
  }
 },
 "nbformat": 4,
 "nbformat_minor": 5
}
